{
 "metadata": {
  "kernelspec": {
   "language": "python",
   "display_name": "Python 3",
   "name": "python3"
  },
  "language_info": {
   "name": "python",
   "version": "3.11.11",
   "mimetype": "text/x-python",
   "codemirror_mode": {
    "name": "ipython",
    "version": 3
   },
   "pygments_lexer": "ipython3",
   "nbconvert_exporter": "python",
   "file_extension": ".py"
  },
  "kaggle": {
   "accelerator": "nvidiaTeslaT4",
   "dataSources": [
    {
     "sourceId": 11665041,
     "sourceType": "datasetVersion",
     "datasetId": 7320925
    },
    {
     "sourceId": 370164,
     "sourceType": "modelInstanceVersion",
     "isSourceIdPinned": true,
     "modelInstanceId": 306498,
     "modelId": 326965
    }
   ],
   "dockerImageVersionId": 31012,
   "isInternetEnabled": true,
   "language": "python",
   "sourceType": "notebook",
   "isGpuEnabled": true
  }
 },
 "nbformat_minor": 4,
 "nbformat": 4,
 "cells": [
  {
   "cell_type": "code",
   "source": [
    "# This Python 3 environment comes with many helpful analytics libraries installed\n",
    "# It is defined by the kaggle/python Docker image: https://github.com/kaggle/docker-python\n",
    "# For example, here's several helpful packages to load\n",
    "\n",
    "import numpy as np # linear algebra\n",
    "import pandas as pd # data processing, CSV file I/O (e.g. pd.read_csv)\n",
    "\n",
    "# Input data files are available in the read-only \"../input/\" directory\n",
    "# For example, running this (by clicking run or pressing Shift+Enter) will list all files under the input directory\n",
    "\n",
    "import os\n",
    "# You can write up to 20GB to the current directory (/kaggle/working/) that gets preserved as output when you create a version using \"Save & Run All\" \n",
    "# You can also write temporary files to /kaggle/temp/, but they won't be saved outside of the current session"
   ],
   "metadata": {
    "_uuid": "8f2839f25d086af736a60e9eeb907d3b93b6e0e5",
    "_cell_guid": "b1076dfc-b9ad-4769-8c92-a6c4dae69d19",
    "trusted": true
   },
   "outputs": [],
   "execution_count": null
  },
  {
   "cell_type": "code",
   "source": [
    "!pip install ultralytics --upgrade -q\n"
   ],
   "metadata": {
    "trusted": true,
    "execution": {
     "iopub.status.busy": "2025-05-05T21:29:19.494064Z",
     "iopub.execute_input": "2025-05-05T21:29:19.494752Z",
     "iopub.status.idle": "2025-05-05T21:31:15.121863Z",
     "shell.execute_reply.started": "2025-05-05T21:29:19.494728Z",
     "shell.execute_reply": "2025-05-05T21:31:15.121086Z"
    }
   },
   "outputs": [
    {
     "name": "stdout",
     "text": "\u001B[2K   \u001B[90m━━━━━━━━━━━━━━━━━━━━━━━━━━━━━━━━━━━━━━━━\u001B[0m \u001B[32m1.0/1.0 MB\u001B[0m \u001B[31m16.8 MB/s\u001B[0m eta \u001B[36m0:00:00\u001B[0ma \u001B[36m0:00:01\u001B[0m\n\u001B[2K   \u001B[90m━━━━━━━━━━━━━━━━━━━━━━━━━━━━━━━━━━━━━━━━\u001B[0m \u001B[32m363.4/363.4 MB\u001B[0m \u001B[31m4.1 MB/s\u001B[0m eta \u001B[36m0:00:00\u001B[0m:00:01\u001B[0m00:01\u001B[0m\n\u001B[2K   \u001B[90m━━━━━━━━━━━━━━━━━━━━━━━━━━━━━━━━━━━━━━━━\u001B[0m \u001B[32m664.8/664.8 MB\u001B[0m \u001B[31m2.2 MB/s\u001B[0m eta \u001B[36m0:00:00\u001B[0m:00:01\u001B[0m00:01\u001B[0m\n\u001B[2K   \u001B[90m━━━━━━━━━━━━━━━━━━━━━━━━━━━━━━━━━━━━━━━━\u001B[0m \u001B[32m211.5/211.5 MB\u001B[0m \u001B[31m2.4 MB/s\u001B[0m eta \u001B[36m0:00:00\u001B[0m:00:01\u001B[0m00:01\u001B[0m\n\u001B[2K   \u001B[90m━━━━━━━━━━━━━━━━━━━━━━━━━━━━━━━━━━━━━━━━\u001B[0m \u001B[32m56.3/56.3 MB\u001B[0m \u001B[31m25.2 MB/s\u001B[0m eta \u001B[36m0:00:00\u001B[0m00:01\u001B[0m00:01\u001B[0m\n\u001B[2K   \u001B[90m━━━━━━━━━━━━━━━━━━━━━━━━━━━━━━━━━━━━━━━━\u001B[0m \u001B[32m127.9/127.9 MB\u001B[0m \u001B[31m12.1 MB/s\u001B[0m eta \u001B[36m0:00:00\u001B[0m00:01\u001B[0m00:01\u001B[0m\n\u001B[2K   \u001B[90m━━━━━━━━━━━━━━━━━━━━━━━━━━━━━━━━━━━━━━━━\u001B[0m \u001B[32m207.5/207.5 MB\u001B[0m \u001B[31m7.6 MB/s\u001B[0m eta \u001B[36m0:00:00\u001B[0m:00:01\u001B[0m00:01\u001B[0m\n\u001B[2K   \u001B[90m━━━━━━━━━━━━━━━━━━━━━━━━━━━━━━━━━━━━━━━━\u001B[0m \u001B[32m21.1/21.1 MB\u001B[0m \u001B[31m52.2 MB/s\u001B[0m eta \u001B[36m0:00:00\u001B[0m00:01\u001B[0m00:01\u001B[0m\n\u001B[?25h\u001B[31mERROR: pip's dependency resolver does not currently take into account all the packages that are installed. This behaviour is the source of the following dependency conflicts.\npylibcugraph-cu12 24.12.0 requires pylibraft-cu12==24.12.*, but you have pylibraft-cu12 25.2.0 which is incompatible.\npylibcugraph-cu12 24.12.0 requires rmm-cu12==24.12.*, but you have rmm-cu12 25.2.0 which is incompatible.\u001B[0m\u001B[31m\n\u001B[0m",
     "output_type": "stream"
    }
   ],
   "execution_count": 1
  },
  {
   "cell_type": "code",
   "source": [
    "from ultralytics import YOLO"
   ],
   "metadata": {
    "trusted": true,
    "execution": {
     "iopub.status.busy": "2025-05-05T21:34:17.920525Z",
     "iopub.execute_input": "2025-05-05T21:34:17.921062Z",
     "iopub.status.idle": "2025-05-05T21:34:24.868625Z",
     "shell.execute_reply.started": "2025-05-05T21:34:17.921034Z",
     "shell.execute_reply": "2025-05-05T21:34:24.868001Z"
    }
   },
   "outputs": [
    {
     "name": "stdout",
     "text": "Creating new Ultralytics Settings v0.0.6 file ✅ \nView Ultralytics Settings with 'yolo settings' or at '/root/.config/Ultralytics/settings.json'\nUpdate Settings with 'yolo settings key=value', i.e. 'yolo settings runs_dir=path/to/dir'. For help see https://docs.ultralytics.com/quickstart/#ultralytics-settings.\n",
     "output_type": "stream"
    }
   ],
   "execution_count": 2
  },
  {
   "cell_type": "code",
   "source": [
    "path = 'MART-NISAN 2024 TARIHLI TURKIYE GENELINDE MOBESE TRAFIK KAZA GORUNTULERI.mp4'"
   ],
   "metadata": {
    "trusted": true,
    "execution": {
     "iopub.status.busy": "2025-05-05T21:37:08.296087Z",
     "iopub.execute_input": "2025-05-05T21:37:08.296689Z",
     "iopub.status.idle": "2025-05-05T21:37:08.299875Z",
     "shell.execute_reply.started": "2025-05-05T21:37:08.296666Z",
     "shell.execute_reply": "2025-05-05T21:37:08.299324Z"
    }
   },
   "outputs": [],
   "execution_count": 9
  },
  {
   "cell_type": "code",
   "source": [
    "model = YOLO(\"best.pt\")"
   ],
   "metadata": {
    "trusted": true,
    "execution": {
     "iopub.status.busy": "2025-05-05T21:37:27.490669Z",
     "iopub.execute_input": "2025-05-05T21:37:27.491217Z",
     "iopub.status.idle": "2025-05-05T21:37:27.568613Z",
     "shell.execute_reply.started": "2025-05-05T21:37:27.491191Z",
     "shell.execute_reply": "2025-05-05T21:37:27.567970Z"
    }
   },
   "outputs": [],
   "execution_count": 12
  },
  {
   "cell_type": "code",
   "source": [
    "results = model(source=path, stream=True, conf=0.3)\n"
   ],
   "metadata": {
    "trusted": true,
    "execution": {
     "iopub.status.busy": "2025-04-30T22:59:51.925638Z",
     "iopub.execute_input": "2025-04-30T22:59:51.925911Z",
     "iopub.status.idle": "2025-04-30T22:59:51.929981Z",
     "shell.execute_reply.started": "2025-04-30T22:59:51.925893Z",
     "shell.execute_reply": "2025-04-30T22:59:51.929421Z"
    }
   },
   "outputs": [],
   "execution_count": 17
  },
  {
   "cell_type": "code",
   "source": [
    "import cv2\n",
    "from collections import deque\n",
    "cap   = cv2.VideoCapture(path)\n",
    "fourcc = cv2.VideoWriter_fourcc(*'mp4v')\n",
    "out   = cv2.VideoWriter('output_with_score.mp4', fourcc, 30,\n",
    "                        (int(cap.get(3)), int(cap.get(4))))\n"
   ],
   "metadata": {
    "trusted": true,
    "execution": {
     "iopub.status.busy": "2025-05-05T21:40:57.751177Z",
     "iopub.execute_input": "2025-05-05T21:40:57.751477Z",
     "iopub.status.idle": "2025-05-05T21:40:58.256611Z",
     "shell.execute_reply.started": "2025-05-05T21:40:57.751455Z",
     "shell.execute_reply": "2025-05-05T21:40:58.255708Z"
    }
   },
   "outputs": [],
   "execution_count": 25
  },
  {
   "cell_type": "code",
   "source": [
    "vehicle_weights = {\n",
    "    'bicycle':   0.5,\n",
    "    'bus':       2.0,\n",
    "    'car':       1.0,\n",
    "    'motorbike': 1.0\n",
    "}\n",
    "\n",
    "# smoothing buffers\n",
    "veh_score_hist = deque(maxlen=5)\n",
    "ped_count_hist = deque(maxlen=5)"
   ],
   "metadata": {
    "trusted": true,
    "execution": {
     "iopub.status.busy": "2025-05-05T21:41:01.027721Z",
     "iopub.execute_input": "2025-05-05T21:41:01.028500Z",
     "iopub.status.idle": "2025-05-05T21:41:01.032448Z",
     "shell.execute_reply.started": "2025-05-05T21:41:01.028474Z",
     "shell.execute_reply": "2025-05-05T21:41:01.031703Z"
    }
   },
   "outputs": [],
   "execution_count": 26
  },
  {
   "cell_type": "code",
   "source": [
    "while True:\n",
    "    ret, frame = cap.read()\n",
    "    if not ret:\n",
    "        break\n",
    "\n",
    "    results = model(frame, stream=True, conf=0.1)\n",
    "    r = next(results)\n",
    "\n",
    "    veh_counts = {c:0 for c in vehicle_weights}\n",
    "    ped_count = 0\n",
    "\n",
    "    for cls in r.boxes.cls:\n",
    "        name = model.names[int(cls.item())]\n",
    "        if name in veh_counts:\n",
    "            veh_counts[name] += 1\n",
    "        elif name == 'person':\n",
    "            ped_count += 1\n",
    "\n",
    "    veh_score = sum(veh_counts[c] * vehicle_weights[c] for c in veh_counts)\n",
    "\n",
    "    # smooth both metrics\n",
    "    veh_score_hist.append(veh_score)\n",
    "    ped_count_hist.append(ped_count)\n",
    "    smooth_veh = sum(veh_score_hist) / len(veh_score_hist)\n",
    "    smooth_ped = sum(ped_count_hist) / len(ped_count_hist)\n",
    "\n",
    "    frame = r.plot()\n",
    "\n",
    "    # overlay both metrics\n",
    "    cv2.putText(frame, f'Congestion: {smooth_veh:.1f}', (10, 30),\n",
    "                cv2.FONT_HERSHEY_SIMPLEX, 1.0, (0,0,255), 2)\n",
    "    cv2.putText(frame, f'Pedestrians: {int(smooth_ped)}', (10, 70),\n",
    "                cv2.FONT_HERSHEY_SIMPLEX, 1.0, (255,0,0), 2)\n",
    "\n",
    "    out.write(frame)\n",
    "\n",
    "cap.release()\n",
    "out.release()\n",
    "print(\"Done! Video saved as output_with_score.mp4\")"
   ],
   "metadata": {
    "trusted": true
   },
   "outputs": [],
   "execution_count": null
  }
 ]
}
